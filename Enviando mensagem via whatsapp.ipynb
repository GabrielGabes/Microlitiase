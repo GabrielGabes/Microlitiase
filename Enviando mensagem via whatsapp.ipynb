{
 "cells": [
  {
   "cell_type": "code",
   "execution_count": 8,
   "id": "0198fab0",
   "metadata": {
    "scrolled": true
   },
   "outputs": [
    {
     "name": "stdout",
     "output_type": "stream",
     "text": [
      "Collecting webwhatsapi\n",
      "  Using cached webwhatsapi-2.0.5-py3-none-any.whl (43 kB)\n",
      "Collecting python-axolotl\n",
      "  Using cached python_axolotl-0.2.3-py3-none-any.whl (76 kB)\n",
      "Requirement already satisfied: selenium>=3.4.3 in c:\\users\\gabriel\\anaconda3\\lib\\site-packages (from webwhatsapi) (4.6.1)\n",
      "Requirement already satisfied: python-dateutil>=2.6.0 in c:\\users\\gabriel\\anaconda3\\lib\\site-packages (from webwhatsapi) (2.8.2)\n",
      "Requirement already satisfied: six>=1.10.0 in c:\\users\\gabriel\\anaconda3\\lib\\site-packages (from webwhatsapi) (1.16.0)\n",
      "Requirement already satisfied: cryptography in c:\\users\\gabriel\\anaconda3\\lib\\site-packages (from webwhatsapi) (37.0.1)\n",
      "Requirement already satisfied: trio-websocket~=0.9 in c:\\users\\gabriel\\anaconda3\\lib\\site-packages (from selenium>=3.4.3->webwhatsapi) (0.9.2)\n",
      "Requirement already satisfied: certifi>=2021.10.8 in c:\\users\\gabriel\\anaconda3\\lib\\site-packages (from selenium>=3.4.3->webwhatsapi) (2022.9.14)\n",
      "Requirement already satisfied: urllib3[socks]~=1.26 in c:\\users\\gabriel\\anaconda3\\lib\\site-packages (from selenium>=3.4.3->webwhatsapi) (1.26.11)\n",
      "Requirement already satisfied: trio~=0.17 in c:\\users\\gabriel\\anaconda3\\lib\\site-packages (from selenium>=3.4.3->webwhatsapi) (0.22.0)\n",
      "Requirement already satisfied: cffi>=1.12 in c:\\users\\gabriel\\anaconda3\\lib\\site-packages (from cryptography->webwhatsapi) (1.15.1)\n",
      "Collecting protobuf>=3.0.0.b2\n",
      "  Using cached protobuf-4.24.1-cp39-cp39-win_amd64.whl (430 kB)\n",
      "Collecting python-axolotl-curve25519>=0.4.1\n",
      "  Using cached python-axolotl-curve25519-0.4.1.post2.tar.gz (79 kB)\n",
      "  Preparing metadata (setup.py): started\n",
      "  Preparing metadata (setup.py): finished with status 'done'\n",
      "Requirement already satisfied: pycparser in c:\\users\\gabriel\\anaconda3\\lib\\site-packages (from cffi>=1.12->cryptography->webwhatsapi) (2.21)\n",
      "Requirement already satisfied: idna in c:\\users\\gabriel\\anaconda3\\lib\\site-packages (from trio~=0.17->selenium>=3.4.3->webwhatsapi) (3.3)\n",
      "Requirement already satisfied: outcome in c:\\users\\gabriel\\anaconda3\\lib\\site-packages (from trio~=0.17->selenium>=3.4.3->webwhatsapi) (1.2.0)\n",
      "Requirement already satisfied: async-generator>=1.9 in c:\\users\\gabriel\\anaconda3\\lib\\site-packages (from trio~=0.17->selenium>=3.4.3->webwhatsapi) (1.10)\n",
      "Requirement already satisfied: sortedcontainers in c:\\users\\gabriel\\anaconda3\\lib\\site-packages (from trio~=0.17->selenium>=3.4.3->webwhatsapi) (2.4.0)\n",
      "Requirement already satisfied: exceptiongroup>=1.0.0rc9 in c:\\users\\gabriel\\anaconda3\\lib\\site-packages (from trio~=0.17->selenium>=3.4.3->webwhatsapi) (1.0.4)\n",
      "Requirement already satisfied: sniffio in c:\\users\\gabriel\\anaconda3\\lib\\site-packages (from trio~=0.17->selenium>=3.4.3->webwhatsapi) (1.2.0)\n",
      "Requirement already satisfied: attrs>=19.2.0 in c:\\users\\gabriel\\anaconda3\\lib\\site-packages (from trio~=0.17->selenium>=3.4.3->webwhatsapi) (21.4.0)\n",
      "Requirement already satisfied: wsproto>=0.14 in c:\\users\\gabriel\\anaconda3\\lib\\site-packages (from trio-websocket~=0.9->selenium>=3.4.3->webwhatsapi) (1.2.0)\n",
      "Requirement already satisfied: PySocks!=1.5.7,<2.0,>=1.5.6 in c:\\users\\gabriel\\anaconda3\\lib\\site-packages (from urllib3[socks]~=1.26->selenium>=3.4.3->webwhatsapi) (1.7.1)\n",
      "Requirement already satisfied: h11<1,>=0.9.0 in c:\\users\\gabriel\\anaconda3\\lib\\site-packages (from wsproto>=0.14->trio-websocket~=0.9->selenium>=3.4.3->webwhatsapi) (0.14.0)\n",
      "Building wheels for collected packages: python-axolotl-curve25519\n",
      "  Building wheel for python-axolotl-curve25519 (setup.py): started\n",
      "  Building wheel for python-axolotl-curve25519 (setup.py): finished with status 'error'\n",
      "  Running setup.py clean for python-axolotl-curve25519\n",
      "Failed to build python-axolotl-curve25519\n",
      "Installing collected packages: python-axolotl-curve25519, protobuf, python-axolotl, webwhatsapi\n",
      "  Running setup.py install for python-axolotl-curve25519: started\n",
      "  Running setup.py install for python-axolotl-curve25519: finished with status 'error'\n",
      "Note: you may need to restart the kernel to use updated packages.\n"
     ]
    },
    {
     "name": "stderr",
     "output_type": "stream",
     "text": [
      "  error: subprocess-exited-with-error\n",
      "  \n",
      "  python setup.py bdist_wheel did not run successfully.\n",
      "  exit code: 1\n",
      "  \n",
      "  [7 lines of output]\n",
      "  C:\\Users\\Gabriel\\anaconda3\\lib\\site-packages\\setuptools\\dist.py:530: UserWarning: Normalizing '0.4.1-2' to '0.4.1.post2'\n",
      "    warnings.warn(tmpl.format(**locals()))\n",
      "  running bdist_wheel\n",
      "  running build\n",
      "  running build_ext\n",
      "  building 'axolotl_curve25519' extension\n",
      "  error: Microsoft Visual C++ 14.0 or greater is required. Get it with \"Microsoft C++ Build Tools\": https://visualstudio.microsoft.com/visual-cpp-build-tools/\n",
      "  [end of output]\n",
      "  \n",
      "  note: This error originates from a subprocess, and is likely not a problem with pip.\n",
      "  ERROR: Failed building wheel for python-axolotl-curve25519\n",
      "  error: subprocess-exited-with-error\n",
      "  \n",
      "  Running setup.py install for python-axolotl-curve25519 did not run successfully.\n",
      "  exit code: 1\n",
      "  \n",
      "  [9 lines of output]\n",
      "  C:\\Users\\Gabriel\\anaconda3\\lib\\site-packages\\setuptools\\dist.py:530: UserWarning: Normalizing '0.4.1-2' to '0.4.1.post2'\n",
      "    warnings.warn(tmpl.format(**locals()))\n",
      "  running install\n",
      "  C:\\Users\\Gabriel\\anaconda3\\lib\\site-packages\\setuptools\\command\\install.py:34: SetuptoolsDeprecationWarning: setup.py install is deprecated. Use build and pip and other standards-based tools.\n",
      "    warnings.warn(\n",
      "  running build\n",
      "  running build_ext\n",
      "  building 'axolotl_curve25519' extension\n",
      "  error: Microsoft Visual C++ 14.0 or greater is required. Get it with \"Microsoft C++ Build Tools\": https://visualstudio.microsoft.com/visual-cpp-build-tools/\n",
      "  [end of output]\n",
      "  \n",
      "  note: This error originates from a subprocess, and is likely not a problem with pip.\n",
      "error: legacy-install-failure\n",
      "\n",
      "Encountered error while trying to install package.\n",
      "\n",
      "python-axolotl-curve25519\n",
      "\n",
      "note: This is an issue with the package mentioned above, not pip.\n",
      "hint: See above for output from the failure.\n"
     ]
    }
   ],
   "source": [
    "pip install webwhatsapi"
   ]
  },
  {
   "cell_type": "code",
   "execution_count": 7,
   "id": "3fc4cb63",
   "metadata": {},
   "outputs": [
    {
     "ename": "ModuleNotFoundError",
     "evalue": "No module named 'webwhatsapi'",
     "output_type": "error",
     "traceback": [
      "\u001b[1;31m---------------------------------------------------------------------------\u001b[0m",
      "\u001b[1;31mModuleNotFoundError\u001b[0m                       Traceback (most recent call last)",
      "\u001b[1;32m~\\AppData\\Local\\Temp\\ipykernel_19104\\2161179464.py\u001b[0m in \u001b[0;36m<module>\u001b[1;34m\u001b[0m\n\u001b[1;32m----> 1\u001b[1;33m \u001b[1;32mfrom\u001b[0m \u001b[0mwebwhatsapi\u001b[0m \u001b[1;32mimport\u001b[0m \u001b[0mWhatsAPIDriver\u001b[0m\u001b[1;33m\u001b[0m\u001b[1;33m\u001b[0m\u001b[0m\n\u001b[0m\u001b[0;32m      2\u001b[0m \u001b[1;33m\u001b[0m\u001b[0m\n\u001b[0;32m      3\u001b[0m \u001b[1;31m# Inicialize o driver\u001b[0m\u001b[1;33m\u001b[0m\u001b[1;33m\u001b[0m\u001b[0m\n\u001b[0;32m      4\u001b[0m \u001b[0mdriver\u001b[0m \u001b[1;33m=\u001b[0m \u001b[0mWhatsAPIDriver\u001b[0m\u001b[1;33m(\u001b[0m\u001b[1;33m)\u001b[0m\u001b[1;33m\u001b[0m\u001b[1;33m\u001b[0m\u001b[0m\n\u001b[0;32m      5\u001b[0m \u001b[1;33m\u001b[0m\u001b[0m\n",
      "\u001b[1;31mModuleNotFoundError\u001b[0m: No module named 'webwhatsapi'"
     ]
    }
   ],
   "source": [
    "from webwhatsapi import WhatsAPIDriver\n",
    "\n",
    "# Inicialize o driver\n",
    "driver = WhatsAPIDriver()\n",
    "\n",
    "# Aguarde até que o código QR seja gerado\n",
    "print(\"Aguarde até que o código QR seja gerado e escaneie-o com o WhatsApp no seu celular.\")\n",
    "\n",
    "# Espere até que a sessão do WhatsApp Web seja iniciada (você escaneou o QR Code)\n",
    "driver.wait_for_login()\n",
    "\n",
    "# Agora você está conectado ao WhatsApp Web através do Python!\n",
    "print(\"Conectado ao WhatsApp Web!\")\n",
    "\n",
    "# Você pode fechar a sessão e o navegador assim:\n",
    "# driver.quit()\n"
   ]
  },
  {
   "cell_type": "code",
   "execution_count": null,
   "id": "6d24bbf4",
   "metadata": {},
   "outputs": [],
   "source": []
  },
  {
   "cell_type": "code",
   "execution_count": null,
   "id": "cab00dda",
   "metadata": {},
   "outputs": [],
   "source": []
  },
  {
   "cell_type": "code",
   "execution_count": null,
   "id": "cc10b194",
   "metadata": {},
   "outputs": [],
   "source": []
  },
  {
   "cell_type": "code",
   "execution_count": null,
   "id": "37aeb106",
   "metadata": {},
   "outputs": [],
   "source": []
  },
  {
   "cell_type": "code",
   "execution_count": null,
   "id": "e94226c5",
   "metadata": {},
   "outputs": [],
   "source": []
  },
  {
   "cell_type": "code",
   "execution_count": null,
   "id": "f647e8c0",
   "metadata": {},
   "outputs": [],
   "source": []
  },
  {
   "cell_type": "code",
   "execution_count": null,
   "id": "e721a318",
   "metadata": {},
   "outputs": [],
   "source": []
  },
  {
   "cell_type": "code",
   "execution_count": null,
   "id": "e395204f",
   "metadata": {},
   "outputs": [],
   "source": []
  },
  {
   "cell_type": "code",
   "execution_count": null,
   "id": "f2e8bdf1",
   "metadata": {},
   "outputs": [],
   "source": []
  },
  {
   "cell_type": "code",
   "execution_count": null,
   "id": "5b7ade36",
   "metadata": {},
   "outputs": [],
   "source": []
  },
  {
   "cell_type": "code",
   "execution_count": null,
   "id": "52c83e0c",
   "metadata": {},
   "outputs": [],
   "source": []
  },
  {
   "cell_type": "code",
   "execution_count": null,
   "id": "4abe9990",
   "metadata": {},
   "outputs": [],
   "source": []
  }
 ],
 "metadata": {
  "kernelspec": {
   "display_name": "Python 3 (ipykernel)",
   "language": "python",
   "name": "python3"
  },
  "language_info": {
   "codemirror_mode": {
    "name": "ipython",
    "version": 3
   },
   "file_extension": ".py",
   "mimetype": "text/x-python",
   "name": "python",
   "nbconvert_exporter": "python",
   "pygments_lexer": "ipython3",
   "version": "3.9.13"
  }
 },
 "nbformat": 4,
 "nbformat_minor": 5
}
